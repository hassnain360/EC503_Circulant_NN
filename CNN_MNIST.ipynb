{
 "cells": [
  {
   "cell_type": "code",
   "execution_count": 3,
   "metadata": {
    "colab": {
     "base_uri": "https://localhost:8080/",
     "height": 551
    },
    "colab_type": "code",
    "executionInfo": {
     "elapsed": 1970705,
     "status": "ok",
     "timestamp": 1524577821923,
     "user": {
      "displayName": "Applied AI Course",
      "photoUrl": "//lh3.googleusercontent.com/-EsJzSyawCkQ/AAAAAAAAAAI/AAAAAAAAAWk/jhKHALKaHag/s50-c-k-no/photo.jpg",
      "userId": "116292885805316472049"
     },
     "user_tz": -330
    },
    "id": "H9EU0e8yzFOm",
    "outputId": "b9a7331d-3a52-4991-f4a2-eaa64e288eb9"
   },
   "outputs": [
    {
     "name": "stdout",
     "output_type": "stream",
     "text": [
      "x_train shape: (60000, 28, 28, 1)\n",
      "60000 train samples\n",
      "10000 test samples\n",
      "Epoch 1/12\n",
      "469/469 [==============================] - 56s 119ms/step - loss: 0.2151 - accuracy: 0.9355 - val_loss: 0.0520 - val_accuracy: 0.9832\n",
      "Epoch 2/12\n",
      "469/469 [==============================] - 65s 138ms/step - loss: 0.0794 - accuracy: 0.9766 - val_loss: 0.0373 - val_accuracy: 0.9870\n",
      "Epoch 3/12\n",
      "469/469 [==============================] - 70s 150ms/step - loss: 0.0631 - accuracy: 0.9817 - val_loss: 0.0446 - val_accuracy: 0.9852\n",
      "Epoch 4/12\n",
      "469/469 [==============================] - 73s 155ms/step - loss: 0.0543 - accuracy: 0.9835 - val_loss: 0.0325 - val_accuracy: 0.9900\n",
      "Epoch 5/12\n",
      "469/469 [==============================] - 79s 168ms/step - loss: 0.0497 - accuracy: 0.9857 - val_loss: 0.0347 - val_accuracy: 0.9896\n",
      "Epoch 6/12\n",
      "469/469 [==============================] - 87s 185ms/step - loss: 0.0486 - accuracy: 0.9864 - val_loss: 0.0368 - val_accuracy: 0.9893\n",
      "Epoch 7/12\n",
      "469/469 [==============================] - 84s 178ms/step - loss: 0.0484 - accuracy: 0.9858 - val_loss: 0.0344 - val_accuracy: 0.9904\n",
      "Epoch 8/12\n",
      "469/469 [==============================] - 82s 175ms/step - loss: 0.0501 - accuracy: 0.9862 - val_loss: 0.0345 - val_accuracy: 0.9886\n",
      "Epoch 9/12\n",
      "469/469 [==============================] - 90s 192ms/step - loss: 0.0481 - accuracy: 0.9862 - val_loss: 0.0302 - val_accuracy: 0.9921\n",
      "Epoch 10/12\n",
      "469/469 [==============================] - 103s 219ms/step - loss: 0.0521 - accuracy: 0.9857 - val_loss: 0.0390 - val_accuracy: 0.9893\n",
      "Epoch 11/12\n",
      "469/469 [==============================] - 95s 202ms/step - loss: 0.0536 - accuracy: 0.9854 - val_loss: 0.0371 - val_accuracy: 0.9902\n",
      "Epoch 12/12\n",
      "469/469 [==============================] - 100s 213ms/step - loss: 0.0538 - accuracy: 0.9850 - val_loss: 0.0345 - val_accuracy: 0.9893\n",
      "Test loss: 0.034496091306209564\n",
      "Test accuracy: 0.989300012588501\n"
     ]
    }
   ],
   "source": [
    "import keras\n",
    "from keras.datasets import mnist\n",
    "from keras.models import Sequential\n",
    "from keras.layers import Dense, Dropout, Flatten\n",
    "from keras.layers import Conv2D, MaxPooling2D\n",
    "from keras import backend as K\n",
    "from keras.utils import np_utils\n",
    "\n",
    "batch_size = 128\n",
    "num_classes = 10\n",
    "epochs = 12\n",
    "\n",
    "# input image dimensions\n",
    "img_rows, img_cols = 28, 28\n",
    "\n",
    "# the data, split between train and test sets\n",
    "(x_train, y_train), (x_test, y_test) = mnist.load_data()\n",
    "\n",
    "if K.image_data_format() == 'channels_first':\n",
    "    x_train = x_train.reshape(x_train.shape[0], 1, img_rows, img_cols)\n",
    "    x_test = x_test.reshape(x_test.shape[0], 1, img_rows, img_cols)\n",
    "    input_shape = (1, img_rows, img_cols)\n",
    "else:\n",
    "    x_train = x_train.reshape(x_train.shape[0], img_rows, img_cols, 1)\n",
    "    x_test = x_test.reshape(x_test.shape[0], img_rows, img_cols, 1)\n",
    "    input_shape = (img_rows, img_cols, 1)\n",
    "\n",
    "x_train = x_train.astype('float32')\n",
    "x_test = x_test.astype('float32')\n",
    "x_train /= 255\n",
    "x_test /= 255\n",
    "print('x_train shape:', x_train.shape)\n",
    "print(x_train.shape[0], 'train samples')\n",
    "print(x_test.shape[0], 'test samples')\n",
    "\n",
    "# convert class vectors to binary class matrices\n",
    "y_train = keras.utils.np_utils.to_categorical(y_train, num_classes)\n",
    "y_test = keras.utils.np_utils.to_categorical(y_test, num_classes)\n",
    "\n",
    "model = Sequential()\n",
    "model.add(Conv2D(32, kernel_size=(3, 3),\n",
    "                 activation='relu',\n",
    "                 input_shape=input_shape))\n",
    "model.add(Conv2D(64, (3, 3), activation='relu'))\n",
    "model.add(MaxPooling2D(pool_size=(2, 2)))\n",
    "model.add(Dropout(0.25))\n",
    "model.add(Flatten())\n",
    "model.add(Dense(128, activation='relu'))\n",
    "model.add(Dropout(0.5))\n",
    "model.add(Dense(num_classes, activation='softmax'))\n",
    "\n",
    "model.compile(loss=keras.losses.categorical_crossentropy,\n",
    "              metrics=['accuracy'])\n",
    "\n",
    "model.fit(x_train, y_train,\n",
    "          batch_size=batch_size,\n",
    "          epochs=epochs,\n",
    "          verbose=1,\n",
    "          validation_data=(x_test, y_test))\n",
    "score = model.evaluate(x_test, y_test, verbose=0)\n",
    "print('Test loss:', score[0])\n",
    "print('Test accuracy:', score[1])"
   ]
  },
  {
   "cell_type": "code",
   "execution_count": null,
   "metadata": {},
   "outputs": [],
   "source": []
  }
 ],
 "metadata": {
  "colab": {
   "collapsed_sections": [],
   "name": "CNN_MNIST.ipynb",
   "provenance": [],
   "version": "0.3.2"
  },
  "kernelspec": {
   "display_name": "Python 3",
   "language": "python",
   "name": "python3"
  },
  "language_info": {
   "codemirror_mode": {
    "name": "ipython",
    "version": 3
   },
   "file_extension": ".py",
   "mimetype": "text/x-python",
   "name": "python",
   "nbconvert_exporter": "python",
   "pygments_lexer": "ipython3",
   "version": "3.6.9"
  }
 },
 "nbformat": 4,
 "nbformat_minor": 1
}
